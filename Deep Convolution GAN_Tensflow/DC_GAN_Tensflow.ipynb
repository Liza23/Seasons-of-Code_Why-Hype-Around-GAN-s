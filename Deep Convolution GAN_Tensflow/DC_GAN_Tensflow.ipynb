{
  "nbformat": 4,
  "nbformat_minor": 0,
  "metadata": {
    "colab": {
      "name": "DC GAN_Tensflow.ipynb",
      "provenance": [],
      "collapsed_sections": [],
      "authorship_tag": "ABX9TyNL4mIe5GCcIooY43MUIDnV",
      "include_colab_link": true
    },
    "kernelspec": {
      "name": "python3",
      "display_name": "Python 3"
    },
    "accelerator": "GPU"
  },
  "cells": [
    {
      "cell_type": "markdown",
      "metadata": {
        "id": "view-in-github",
        "colab_type": "text"
      },
      "source": [
        "<a href=\"https://colab.research.google.com/github/Liza23/Seasons-of-Code_Why-Hype-Around-GAN-s/blob/master/DC_GAN_Tensflow.ipynb\" target=\"_parent\"><img src=\"https://colab.research.google.com/assets/colab-badge.svg\" alt=\"Open In Colab\"/></a>"
      ]
    },
    {
      "cell_type": "markdown",
      "metadata": {
        "id": "B51y2ev8brY1",
        "colab_type": "text"
      },
      "source": [
        "# Image Preprocessing"
      ]
    },
    {
      "cell_type": "markdown",
      "metadata": {
        "id": "OA9irEjjX-vy",
        "colab_type": "text"
      },
      "source": [
        "Packages install"
      ]
    },
    {
      "cell_type": "code",
      "metadata": {
        "id": "AkC1aMikWdlg",
        "colab_type": "code",
        "colab": {}
      },
      "source": [
        "import tensorflow as tf\n",
        "# To generate GIFs\n",
        "!pip install -q imageio"
      ],
      "execution_count": 0,
      "outputs": []
    },
    {
      "cell_type": "code",
      "metadata": {
        "id": "IEIPuGkdXKtS",
        "colab_type": "code",
        "colab": {}
      },
      "source": [
        "import glob\n",
        "import imageio\n",
        "import PIL\n",
        "import matplotlib.pyplot as plt\n",
        "import numpy as np\n",
        "import os\n",
        "from tensorflow.keras import layers \n",
        "import time\n",
        "\n",
        "from IPython import display"
      ],
      "execution_count": 0,
      "outputs": []
    },
    {
      "cell_type": "markdown",
      "metadata": {
        "id": "p6xLrTIzYIF2",
        "colab_type": "text"
      },
      "source": [
        "Load Data"
      ]
    },
    {
      "cell_type": "code",
      "metadata": {
        "id": "ZJqPHeUNX3IG",
        "colab_type": "code",
        "outputId": "fdb271d0-4d05-4895-eab8-b8ff2888e113",
        "colab": {
          "base_uri": "https://localhost:8080/",
          "height": 50
        }
      },
      "source": [
        "(train_images,train_labels),(_,_)=tf.keras.datasets.mnist.load_data()"
      ],
      "execution_count": 3,
      "outputs": [
        {
          "output_type": "stream",
          "text": [
            "Downloading data from https://storage.googleapis.com/tensorflow/tf-keras-datasets/mnist.npz\n",
            "11493376/11490434 [==============================] - 0s 0us/step\n"
          ],
          "name": "stdout"
        }
      ]
    },
    {
      "cell_type": "code",
      "metadata": {
        "id": "vlWkYNY_YW2R",
        "colab_type": "code",
        "colab": {}
      },
      "source": [
        "#Reshape the train_image dataset and then normalise to [-1,1]\n",
        "train_images=train_images.reshape(train_images.shape[0],28,28,1).astype('float32')\n",
        "train_images=(train_images-127.5)/127.5   "
      ],
      "execution_count": 0,
      "outputs": []
    },
    {
      "cell_type": "code",
      "metadata": {
        "id": "73kz4YexaHMk",
        "colab_type": "code",
        "outputId": "05157cbf-dc5e-4699-8a80-61e6501dc613",
        "colab": {
          "base_uri": "https://localhost:8080/",
          "height": 33
        }
      },
      "source": [
        "#Print shape of train_images\n",
        "train_images.shape"
      ],
      "execution_count": 5,
      "outputs": [
        {
          "output_type": "execute_result",
          "data": {
            "text/plain": [
              "(60000, 28, 28, 1)"
            ]
          },
          "metadata": {
            "tags": []
          },
          "execution_count": 5
        }
      ]
    },
    {
      "cell_type": "code",
      "metadata": {
        "id": "wmcuIGOUaW3T",
        "colab_type": "code",
        "colab": {}
      },
      "source": [
        "BUFFER_SIZE=60000\n",
        "BATCH_SIZE=256"
      ],
      "execution_count": 0,
      "outputs": []
    },
    {
      "cell_type": "code",
      "metadata": {
        "id": "ak0Mym90agDV",
        "colab_type": "code",
        "colab": {}
      },
      "source": [
        "#Batch and shuffle data\n",
        "#This function creates slices of the input dataset\n",
        "train_datasets=tf.data.Dataset.from_tensor_slices(train_images).shuffle(BUFFER_SIZE).batch(BATCH_SIZE)"
      ],
      "execution_count": 0,
      "outputs": []
    },
    {
      "cell_type": "markdown",
      "metadata": {
        "id": "H0cnNfxYbylI",
        "colab_type": "text"
      },
      "source": [
        "# Model Making"
      ]
    },
    {
      "cell_type": "markdown",
      "metadata": {
        "id": "dlkZqP-3b6ab",
        "colab_type": "text"
      },
      "source": [
        "The Generator"
      ]
    },
    {
      "cell_type": "code",
      "metadata": {
        "id": "AQsh5qNwbl9E",
        "colab_type": "code",
        "colab": {}
      },
      "source": [
        "def make_generator_model():\n",
        "  model=tf.keras.Sequential()\n",
        "  model.add(layers.Dense(7*7*256,use_bias=False,input_shape=(100,)))\n",
        "  model.add(layers.BatchNormalization())\n",
        "  model.add(layers.LeakyReLU())\n",
        "\n",
        "  model.add(layers.Reshape((7,7,256)))\n",
        "  assert model.output_shape==(None,7,7,256)  #None is the batch size\n",
        "\n",
        "  model.add(layers.Conv2DTranspose(128, (5,5), strides=(1,1),padding='same',use_bias=False))\n",
        "  assert model.output_shape==(None,7,7,128)\n",
        "  model.add(layers.BatchNormalization())\n",
        "  model.add(layers.LeakyReLU())\n",
        "\n",
        "  model.add(layers.Conv2DTranspose(64, (5,5), strides=(2,2),padding='same',use_bias=False))\n",
        "  assert model.output_shape==(None,14,14,64)\n",
        "  model.add(layers.BatchNormalization())\n",
        "  model.add(layers.LeakyReLU())\n",
        "\n",
        "  model.add(layers.Conv2DTranspose(1, (5,5), strides=(2,2),padding='same',use_bias=False,activation='tanh'))\n",
        "  assert model.output_shape==(None,28,28,1) \n",
        "\n",
        "  return model"
      ],
      "execution_count": 0,
      "outputs": []
    },
    {
      "cell_type": "markdown",
      "metadata": {
        "id": "VFmyg7gHe96X",
        "colab_type": "text"
      },
      "source": [
        "Lets create an image"
      ]
    },
    {
      "cell_type": "code",
      "metadata": {
        "id": "4Hqd8mkoe1MF",
        "colab_type": "code",
        "outputId": "4d573b99-89f8-4d13-91fb-516bd9586445",
        "colab": {
          "base_uri": "https://localhost:8080/",
          "height": 281
        }
      },
      "source": [
        "generator=make_generator_model()\n",
        "\n",
        "noise=tf.random.normal([1,100]) #outputs a random value from normal distribution\n",
        "generated_image=generator(noise,training=False)\n",
        "\n",
        "plt.imshow(generated_image[0,:,:,0],cmap='gray')"
      ],
      "execution_count": 9,
      "outputs": [
        {
          "output_type": "execute_result",
          "data": {
            "text/plain": [
              "<matplotlib.image.AxesImage at 0x7f89301b4eb8>"
            ]
          },
          "metadata": {
            "tags": []
          },
          "execution_count": 9
        },
        {
          "output_type": "display_data",
          "data": {
            "image/png": "[encoded data removed]",
            "text/plain": [
              "<Figure size 432x288 with 1 Axes>"
            ]
          },
          "metadata": {
            "tags": [],
            "needs_background": "light"
          }
        }
      ]
    },
    {
      "cell_type": "markdown",
      "metadata": {
        "id": "53XBB0lDgMXH",
        "colab_type": "text"
      },
      "source": [
        "The discriminator"
      ]
    },
    {
      "cell_type": "code",
      "metadata": {
        "id": "XlA1T8okfn7D",
        "colab_type": "code",
        "colab": {}
      },
      "source": [
        "def make_discrimator_model():\n",
        "  model=tf.keras.Sequential()\n",
        "  model.add(layers.Conv2D(64,(5,5),strides=(2,2),padding='same',\n",
        "                                input_shape=[28,28,1]))\n",
        "  \n",
        "  model.add(layers.LeakyReLU())\n",
        "  model.add(layers.Dropout(0.3))\n",
        "\n",
        "  model.add(layers.Conv2D(64,(5,5),strides=(2,2),padding='same'))\n",
        "  model.add(layers.LeakyReLU())\n",
        "  model.add(layers.Dropout(0.3))\n",
        "\n",
        "  model.add(layers.Flatten())\n",
        "  model.add(layers.Dense(1))\n",
        "\n",
        "  return model"
      ],
      "execution_count": 0,
      "outputs": []
    },
    {
      "cell_type": "markdown",
      "metadata": {
        "id": "3F9Xaow6hZ10",
        "colab_type": "text"
      },
      "source": [
        "Let the discriminator differentiate between real and fake image"
      ]
    },
    {
      "cell_type": "code",
      "metadata": {
        "id": "0EWTgJJhhSOx",
        "colab_type": "code",
        "outputId": "ded21cd5-bea1-4699-e5c0-68eb664d009c",
        "colab": {
          "base_uri": "https://localhost:8080/",
          "height": 33
        }
      },
      "source": [
        "discriminator=make_discrimator_model()\n",
        "decision=discriminator(generated_image)\n",
        "print(decision)"
      ],
      "execution_count": 11,
      "outputs": [
        {
          "output_type": "stream",
          "text": [
            "tf.Tensor([[-0.00319054]], shape=(1, 1), dtype=float32)\n"
          ],
          "name": "stdout"
        }
      ]
    },
    {
      "cell_type": "markdown",
      "metadata": {
        "id": "DIINC3NUh1ol",
        "colab_type": "text"
      },
      "source": [
        "# Loss and Optimizer"
      ]
    },
    {
      "cell_type": "code",
      "metadata": {
        "id": "7Ziei6aHhvSY",
        "colab_type": "code",
        "colab": {}
      },
      "source": [
        "# This method returns a helper function to compute cross entropy loss\n",
        "cross_entropy=tf.keras.losses.BinaryCrossentropy(from_logits=True)"
      ],
      "execution_count": 0,
      "outputs": []
    },
    {
      "cell_type": "markdown",
      "metadata": {
        "id": "JteSUGYfjOXz",
        "colab_type": "text"
      },
      "source": [
        "Discrimintor Loss"
      ]
    },
    {
      "cell_type": "code",
      "metadata": {
        "id": "8ofxL-pmjMl_",
        "colab_type": "code",
        "colab": {}
      },
      "source": [
        "def discriminator_loss(real_output,fake_output):\n",
        "  real_loss=cross_entropy(tf.ones_like(real_output),real_output)\n",
        "  fake_loss=cross_entropy(tf.zeros_like(fake_output),fake_output)\n",
        "  total_loss=real_loss+fake_loss\n",
        "\n",
        "  return total_loss"
      ],
      "execution_count": 0,
      "outputs": []
    },
    {
      "cell_type": "markdown",
      "metadata": {
        "id": "RmiN3uyykk0P",
        "colab_type": "text"
      },
      "source": [
        "Generator Loss"
      ]
    },
    {
      "cell_type": "code",
      "metadata": {
        "id": "MG9y22LWkIel",
        "colab_type": "code",
        "colab": {}
      },
      "source": [
        "def generator_loss(fake_output):\n",
        "  return cross_entropy(tf.ones_like(fake_output),fake_output)"
      ],
      "execution_count": 0,
      "outputs": []
    },
    {
      "cell_type": "markdown",
      "metadata": {
        "id": "-YRoK80hk6Rk",
        "colab_type": "text"
      },
      "source": [
        "Optimizers"
      ]
    },
    {
      "cell_type": "code",
      "metadata": {
        "id": "5mjozOEUk1CT",
        "colab_type": "code",
        "colab": {}
      },
      "source": [
        "generator_optimizer = tf.keras.optimizers.Adam(1e-4)\n",
        "discriminator_optimizer = tf.keras.optimizers.Adam(1e-4)"
      ],
      "execution_count": 0,
      "outputs": []
    },
    {
      "cell_type": "markdown",
      "metadata": {
        "id": "xi8taoj-k9vs",
        "colab_type": "text"
      },
      "source": [
        "Save checkpoints"
      ]
    },
    {
      "cell_type": "code",
      "metadata": {
        "id": "Cnih5K3lk47L",
        "colab_type": "code",
        "colab": {}
      },
      "source": [
        "checkpoint_dir='./training_checkpoints'\n",
        "checkpoint_prefix=os.path.join(checkpoint_dir,\"ckpt\")\n",
        "checkpoint=tf.train.Checkpoint(generated_optimizer=generator_optimizer,\n",
        "                               discriminator_optimizer=discriminator_optimizer,\n",
        "                               generator=generator,\n",
        "                               discriminator=discriminator)"
      ],
      "execution_count": 0,
      "outputs": []
    },
    {
      "cell_type": "markdown",
      "metadata": {
        "id": "tGuX5FCXlsiw",
        "colab_type": "text"
      },
      "source": [
        "# Training Loop"
      ]
    },
    {
      "cell_type": "code",
      "metadata": {
        "id": "R37lVq9FlxCT",
        "colab_type": "code",
        "colab": {}
      },
      "source": [
        "EPOCHS=50\n",
        "noise_dim=100\n",
        "num_examples_to_generate=16\n",
        "\n",
        "# We will reuse this seed overtime (so it's easier)\n",
        "# to visualize progress in the animated GIF)\n",
        "\n",
        "seed = tf.random.normal([num_examples_to_generate, noise_dim])"
      ],
      "execution_count": 0,
      "outputs": []
    },
    {
      "cell_type": "code",
      "metadata": {
        "id": "zyzunFRUmKJS",
        "colab_type": "code",
        "colab": {}
      },
      "source": [
        "# This annotation causes the function to be \"compiled\".\n",
        "@tf.function\n",
        "def train_step(images):\n",
        "    noise = tf.random.normal([BATCH_SIZE, noise_dim])\n",
        "\n",
        "    with tf.GradientTape() as gen_tape, tf.GradientTape() as disc_tape:\n",
        "      generated_images = generator(noise, training=True)\n",
        "\n",
        "      real_output = discriminator(images, training=True)\n",
        "      fake_output = discriminator(generated_images, training=True)\n",
        "\n",
        "      gen_loss = generator_loss(fake_output)\n",
        "      disc_loss = discriminator_loss(real_output, fake_output)\n",
        "\n",
        "    gradients_of_generator = gen_tape.gradient(gen_loss, generator.trainable_variables)\n",
        "    gradients_of_discriminator = disc_tape.gradient(disc_loss, discriminator.trainable_variables)\n",
        "\n",
        "    generator_optimizer.apply_gradients(zip(gradients_of_generator, generator.trainable_variables))\n",
        "    discriminator_optimizer.apply_gradients(zip(gradients_of_discriminator, discriminator.trainable_variables))"
      ],
      "execution_count": 0,
      "outputs": []
    },
    {
      "cell_type": "code",
      "metadata": {
        "id": "sqImbj-cukLH",
        "colab_type": "code",
        "colab": {}
      },
      "source": [
        "def train(dataset,epochs):\n",
        "  for epoch in range(epochs):\n",
        "    start=time.time()\n",
        "\n",
        "    for image_batch in dataset:\n",
        "      train_step(image_batch)\n",
        "\n",
        "    #Produce images for the GIF as we go\n",
        "    display.clear_output(wait=True)\n",
        "    generate_and_save_images(generator,\n",
        "                             epoch+1,\n",
        "                             seed)\n",
        "    \n",
        "    #Save model every 15 seconds\n",
        "    if(epoch+1)%15==0:\n",
        "      checkpoint.save(file_prefix = checkpoint_prefix)\n",
        "    \n",
        "    print ('Time for epoch {} is {} sec'.format(epoch + 1, time.time()-start))\n",
        "\n",
        "  #Generate after the final epoch\n",
        "  display.clear_output(wait=True)\n",
        "  generate_and_save_images(generator,\n",
        "                             epochs,\n",
        "                             seed)"
      ],
      "execution_count": 0,
      "outputs": []
    },
    {
      "cell_type": "markdown",
      "metadata": {
        "id": "SbrAxfBZzhfh",
        "colab_type": "text"
      },
      "source": [
        "Generate and save image"
      ]
    },
    {
      "cell_type": "code",
      "metadata": {
        "id": "viQplXmpyPXh",
        "colab_type": "code",
        "colab": {}
      },
      "source": [
        "def generate_and_save_images(model, epoch, test_input):\n",
        "  # This is so all layers run in inference mode (batchnorm).\n",
        "  predictions = model(test_input, training=False)\n",
        "\n",
        "  fig = plt.figure(figsize=(4,4))\n",
        "\n",
        "  for i in range(predictions.shape[0]):\n",
        "      plt.subplot(4, 4, i+1)\n",
        "      plt.imshow(predictions[i, :, :, 0] * 127.5 + 127.5, cmap='gray')\n",
        "      plt.axis('off')\n",
        "\n",
        "  plt.savefig('image_at_epoch_{:04d}.png'.format(epoch))\n",
        "  plt.show()"
      ],
      "execution_count": 0,
      "outputs": []
    },
    {
      "cell_type": "markdown",
      "metadata": {
        "id": "JTdNpwDNzvNo",
        "colab_type": "text"
      },
      "source": [
        "# Train Model"
      ]
    },
    {
      "cell_type": "code",
      "metadata": {
        "id": "KFNvrhQ9zp8I",
        "colab_type": "code",
        "outputId": "a73f5a92-6e2b-41f6-f2f7-d16029b88fa6",
        "colab": {
          "base_uri": "https://localhost:8080/",
          "height": 248
        }
      },
      "source": [
        "train(train_datasets, EPOCHS)"
      ],
      "execution_count": 21,
      "outputs": [
        {
          "output_type": "display_data",
          "data": {
            "image/png": "[encoded data removed]",
            "text/plain": [
              "<Figure size 288x288 with 16 Axes>"
            ]
          },
          "metadata": {
            "tags": [],
            "needs_background": "light"
          }
        }
      ]
    },
    {
      "cell_type": "markdown",
      "metadata": {
        "id": "b_gokyL_30On",
        "colab_type": "text"
      },
      "source": [
        "Restore latest checkpoint"
      ]
    },
    {
      "cell_type": "code",
      "metadata": {
        "id": "jPr0la3Hz2sd",
        "colab_type": "code",
        "colab": {
          "base_uri": "https://localhost:8080/",
          "height": 33
        },
        "outputId": "cac6419d-36db-486d-fea1-cce7f2bdf675"
      },
      "source": [
        "checkpoint.restore(tf.train.latest_checkpoint(checkpoint_dir))"
      ],
      "execution_count": 22,
      "outputs": [
        {
          "output_type": "execute_result",
          "data": {
            "text/plain": [
              "<tensorflow.python.training.tracking.util.CheckpointLoadStatus at 0x7f88d8c7dcc0>"
            ]
          },
          "metadata": {
            "tags": []
          },
          "execution_count": 22
        }
      ]
    },
    {
      "cell_type": "markdown",
      "metadata": {
        "id": "f28hNYfp38qU",
        "colab_type": "text"
      },
      "source": [
        "Create a GIF"
      ]
    },
    {
      "cell_type": "code",
      "metadata": {
        "id": "h8X1vRH435ba",
        "colab_type": "code",
        "colab": {}
      },
      "source": [
        "# Display a single image using the epoch number\n",
        "def display_image(epoch_no):\n",
        "  return PIL.Image.open('image_at_epoch_{:04d}.png'.format(epoch_no))"
      ],
      "execution_count": 0,
      "outputs": []
    },
    {
      "cell_type": "code",
      "metadata": {
        "id": "LoKA_HGY4EJj",
        "colab_type": "code",
        "outputId": "98b9a633-1d53-4738-b48a-a2617e084b99",
        "colab": {
          "base_uri": "https://localhost:8080/",
          "height": 305
        }
      },
      "source": [
        "display_image(EPOCHS)"
      ],
      "execution_count": 33,
      "outputs": [
        {
          "output_type": "execute_result",
          "data": {
            "image/png": "[encoded data removed]",
            "text/plain": [
              "<PIL.PngImagePlugin.PngImageFile image mode=RGBA size=288x288 at 0x7F88D8A073C8>"
            ]
          },
          "metadata": {
            "tags": []
          },
          "execution_count": 33
        }
      ]
    },
    {
      "cell_type": "code",
      "metadata": {
        "id": "z2AKL190HjUv",
        "colab_type": "code",
        "colab": {}
      },
      "source": [
        "anim_file = 'dcgan.gif'\n",
        "\n",
        "with imageio.get_writer(anim_file, mode='I') as writer:\n",
        "  filenames = glob.glob('image*.png')\n",
        "  filenames = sorted(filenames)\n",
        "  last = -1\n",
        "  for i,filename in enumerate(filenames):\n",
        "    frame = 2*(i**0.5)\n",
        "    if round(frame) > round(last):\n",
        "      last = frame\n",
        "    else:\n",
        "      continue\n",
        "    image = imageio.imread(filename)\n",
        "    writer.append_data(image)\n",
        "  image = imageio.imread(filename)\n",
        "  writer.append_data(image)\n",
        "\n",
        "import IPython\n",
        "if IPython.version_info > (6,2,0,''):\n",
        "  display.Image(filename=anim_file)"
      ],
      "execution_count": 0,
      "outputs": []
    },
    {
      "cell_type": "code",
      "metadata": {
        "id": "Zyp5G7dQHnfR",
        "colab_type": "code",
        "colab": {}
      },
      "source": [
        "try:\n",
        "  from google.colab import files\n",
        "except ImportError:\n",
        "   pass\n",
        "else:\n",
        "  files.download(anim_file)"
      ],
      "execution_count": 0,
      "outputs": []
    },
    {
      "cell_type": "markdown",
      "metadata": {
        "id": "e_wZh_Vo4v-g",
        "colab_type": "text"
      },
      "source": [
        "[Writing your first generative adversarial network with keras](https://towardsdatascience.com/writing-your-first-generative-adversarial-network-with-keras-2d16fd8d4889)"
      ]
    }
  ]
}